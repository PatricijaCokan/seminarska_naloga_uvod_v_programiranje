{
 "cells": [
  {
   "cell_type": "code",
   "execution_count": 2,
   "id": "e418807c",
   "metadata": {},
   "outputs": [],
   "source": [
    "import pandas as pd\n",
    "import matplotlib "
   ]
  },
  {
   "cell_type": "markdown",
   "id": "0c2c95f9",
   "metadata": {},
   "source": [
    "AVTO.NET – ANALIZA OGLASOV\n",
    "\n",
    "SEMINARSKA NALOGA PRI PREDMETU UVOD V PROGRAMIRANJE 2024/2025\n",
    "\n",
    "PATRICIJA COKAN\n",
    "\n",
    "V svoji seminarski nalogi sem analizirala podatke o avtomobilskih oglasih. Oglase sem s pomočjo knjižnic requests in BeautifulSoup pridobila iz spletne strani avto.net. Vsi podatki, ki jih uporabljam v svojem projektu, so javne narave in dostopni na povezavi https://www.avto.net. Podatke sem za namen analize pretvorila v dve obliki zapisa, in sicer .json in .csv, tako kot je bilo prikazano na posnetkih vaj, ki sem si jih ogledala v spletni učilnici.\n",
    "Kot se je izkazalo, ima spletna stran avto.net kar nekaj zaščit proti spletnemu pajkanju (web scraping). Ko sem prvič poskusila pridobiti HTML-kodo posamezne strani, sem dobila le odgovor z opozorilom, da me je stran blokirala. Težavo sem nato delno rešila tako, da sem v svojo Python kodo dodala spremenljivko headers in jo uporabila pri pošiljanju zahtevkov na spletno stran. Poleg tega sem dodala še naključno čakanje med posameznimi zahtevki, kar je rezultate dodatno izboljšalo.\n",
    "Po teh spremembah sem uspela pridobiti kar nekaj veljavnih strani, vendar jih je bilo še vedno veliko neveljavnih. Veljavnost strani sem določala glede na količino podatkov: pri manjših straneh je šlo za napako, pri večjih pa za veljavne strani. V mapo s podatki sem tako shranjevala le veljavne strani. Ko sem kodo pognala večkrat, so nekatere strani, ki so bile prej neveljavne, postale veljavne in sem jih lahko dodala v zbirko podatkov. Na ta način sem z večkratnim poganjanjem kode uspela pridobiti veliko število veljavnih strani.\n",
    "Pri večkratnem poganjanju sem vsakič preverila, ali je določena stran že med veljavnimi podatki, in če je bila, sem jo preskočila. Tako sem se izognila morebitnemu ponovnemu branju strani, ki sem jih enkrat že uspešno prebrala.\n",
    "\n",
    "Ko sem pridobila zadostno količino strani, sem pripravila dve glavni Python funkciji. Prva funkcija iz vseh spletnih strani izloči posamezne oglase, ki jih najde na strani, druga pa iz teh oglasov pridobi podatke za vsak oglas posebej. Poleg teh dveh funkcij sem pripravila še funkcijo, ki očisti besedilo tako, da določene prej kodirane znake zamenja z dejanskimi črkami. Vse tri funkcije se izvajajo znotraj glavne (main) funkcije.\n",
    "\n",
    "Posamezen oglas za avto ima več atributov, in sicer: ime, cena, prva registracija, kilometrina, gorivo, menjalnik in motor. Podatke sem po osnovni analizi dodatno pretvorila v preglednejšo obliko, da so bili bolj primerni za nadaljnjo obdelavo. Odstranila sem odvečne presledke, razdelila ime avtomobila in znamko na dva ločena stolpca, odstranila enote ter jih zapisala kar v imenu stolpca ipd. Na ta način sem pridobila podatke, s katerimi je bilo nadaljnje delo enostavnejše in pri katerih sem imela manj težav s pretvorbo v pravilne podatkovne tipe, odstranjevanjem enot pri seštevanju podatkov ipd."
   ]
  },
  {
   "cell_type": "markdown",
   "id": "beeff5f0",
   "metadata": {},
   "source": [
    "ANALIZA:\n",
    "\n",
    "1. ZASTOPANOST POSAMEZNIH ZNAMK NA AVTO.NET\n",
    "\n",
    "    Podatke sem razdelila glede na znamko avtomobila in primerjala koliko oglasov na spletni strani pripada posamezni znamki, izračunala sem tudi kakšen tržni delež ima posamezna znamka avtomobila na avto.net. Kot se izkaže je z "
   ]
  },
  {
   "cell_type": "code",
   "execution_count": null,
   "id": "99d1aecc",
   "metadata": {},
   "outputs": [
    {
     "name": "stdout",
     "output_type": "stream",
     "text": [
      "Znamka\n",
      "BMW              432\n",
      "Volkswagen       390\n",
      "Audi             240\n",
      "Citroën          196\n",
      "Škoda             96\n",
      "Opel              96\n",
      "Volvo             96\n",
      "Kia               96\n",
      "Seat              96\n",
      "Renault           96\n",
      "Peugeot           92\n",
      "Aixam             48\n",
      "Nissan            48\n",
      "Alfa              48\n",
      "MINI              48\n",
      "Fiat              48\n",
      "Dongfeng          48\n",
      "Mazda             48\n",
      "Mercedes-Benz     42\n",
      "Name: Znamka, dtype: int64\n",
      "10 NAJBOLJ ZASTOPANIH ZNAMK AVTOMOBILOV NA AVTO.NET:\n",
      "\n",
      "BMW: 432\n",
      "Volkswagen: 390\n",
      "Audi: 240\n",
      "Citroën: 196\n",
      "Škoda: 96\n",
      "Opel: 96\n",
      "Volvo: 96\n",
      "Kia: 96\n",
      "Seat: 96\n",
      "Renault: 96\n"
     ]
    }
   ],
   "source": [
    "podatki = pd.read_csv(\"oglasi_avto.csv\")\n",
    "st_oglsov_znamke = podatki.groupby(\"Znamka\")[\"Znamka\"].count()\n",
    "st_oglsov_znamke = st_oglsov_znamke.sort_values(ascending=False)\n",
    "deset_najvecjih_znamk = st_oglsov_znamke.head(10)\n",
    "print(\"10 NAJBOLJ ZASTOPANIH ZNAMK AVTOMOBILOV NA AVTO.NET:\")\n",
    "print()\n",
    "for znamka, st_oglsov in deset_najvecjih_znamk.items():\n",
    "    print(f\"{znamka}: {st_oglsov}\")\n",
    "\n"
   ]
  },
  {
   "cell_type": "code",
   "execution_count": 10,
   "id": "52523863",
   "metadata": {},
   "outputs": [
    {
     "name": "stdout",
     "output_type": "stream",
     "text": [
      "Število Renault oglasov: 96\n",
      "       Znamka   Model  Cena_stevilka  Prevozenih_km  kWh  Prostornina     KM  \\\n",
      "1     Renault  Captur          10.60        64000.0  NaN        898.0   90.0   \n",
      "25    Renault  Megane           2.49       227000.0  NaN       1598.0  110.0   \n",
      "49    Renault  Captur          10.60        64000.0  NaN        898.0   90.0   \n",
      "73    Renault  Megane           2.49       227000.0  NaN       1598.0  110.0   \n",
      "97    Renault  Captur          10.60        64000.0  NaN        898.0   90.0   \n",
      "...       ...     ...            ...            ...  ...          ...    ...   \n",
      "2186  Renault  Megane           2.49       227000.0  NaN       1598.0  110.0   \n",
      "2209  Renault  Captur          10.60        64000.0  NaN        898.0   90.0   \n",
      "2233  Renault  Megane           2.49       227000.0  NaN       1598.0  110.0   \n",
      "2257  Renault  Captur          10.60        64000.0  NaN        898.0   90.0   \n",
      "2281  Renault  Megane           2.49       227000.0  NaN       1598.0  110.0   \n",
      "\n",
      "      Gorivo  Prva_registracija Menjalnik Baterija_kWh  \n",
      "1     bencin             2019.0     ročni          NaN  \n",
      "25    bencin             2009.0     ročni          NaN  \n",
      "49    bencin             2019.0     ročni          NaN  \n",
      "73    bencin             2009.0     ročni          NaN  \n",
      "97    bencin             2019.0     ročni          NaN  \n",
      "...      ...                ...       ...          ...  \n",
      "2186  bencin             2009.0     ročni          NaN  \n",
      "2209  bencin             2019.0     ročni          NaN  \n",
      "2233  bencin             2009.0     ročni          NaN  \n",
      "2257  bencin             2019.0     ročni          NaN  \n",
      "2281  bencin             2009.0     ročni          NaN  \n",
      "\n",
      "[96 rows x 11 columns]\n"
     ]
    }
   ],
   "source": [
    "# Preberi CSV\n",
    "podatki = pd.read_csv(\"oglasi_avto.csv\")\n",
    "\n",
    "# Ohrani samo Renault podatke\n",
    "renault_podatki = podatki[podatki[\"Znamka\"] == \"Renault\"]\n",
    "\n",
    "print(f\"Število Renault oglasov: {len(renault_podatki)}\")\n",
    "print(renault_podatki)"
   ]
  }
 ],
 "metadata": {
  "kernelspec": {
   "display_name": "venv",
   "language": "python",
   "name": "python3"
  },
  "language_info": {
   "codemirror_mode": {
    "name": "ipython",
    "version": 3
   },
   "file_extension": ".py",
   "mimetype": "text/x-python",
   "name": "python",
   "nbconvert_exporter": "python",
   "pygments_lexer": "ipython3",
   "version": "3.13.2"
  }
 },
 "nbformat": 4,
 "nbformat_minor": 5
}
